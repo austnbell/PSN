{
 "cells": [
  {
   "cell_type": "markdown",
   "metadata": {},
   "source": [
    "# Extract Procedures and Medications\n",
    "These will be one table each (whether or not a patient received a procedure / medication)"
   ]
  },
  {
   "cell_type": "code",
   "execution_count": 1,
   "metadata": {},
   "outputs": [],
   "source": [
    "import pandas_gbq\n",
    "from google.oauth2 import service_account\n",
    "import pandas as pd"
   ]
  },
  {
   "cell_type": "code",
   "execution_count": 2,
   "metadata": {},
   "outputs": [],
   "source": [
    "# apply credentials\n",
    "credentials = service_account.Credentials.from_service_account_file('../Patient-Similarity-credentials.json')\n",
    "pandas_gbq.context.credentials = credentials\n",
    "pandas_gbq.context.project = \"patient-similarity\""
   ]
  },
  {
   "cell_type": "code",
   "execution_count": 4,
   "metadata": {},
   "outputs": [],
   "source": [
    "# since I have to fix some of the data issues in python, I need to get frequencies in python\n",
    "def extractFrequencies(df):\n",
    "    # first group the newly cleaned data\n",
    "    df = df.groupby(['subject_id','label', 'value']).sum().reset_index()\n",
    "    \n",
    "    # now compute frequencies\n",
    "    total_counts = df.groupby(['subject_id','label']).sum().reset_index()\n",
    "    total_counts.columns = ['subject_id', 'label', 'total_counts']\n",
    "    df = pd.merge(df, total_counts, on = ['subject_id', 'label'], how = 'left')\n",
    "    df['frequency'] = df.num_occurences/df.total_counts\n",
    "    return df"
   ]
  },
  {
   "cell_type": "markdown",
   "metadata": {},
   "source": [
    "## Procedures"
   ]
  },
  {
   "cell_type": "code",
   "execution_count": 8,
   "metadata": {},
   "outputs": [
    {
     "data": {
      "text/html": [
       "<div>\n",
       "<style scoped>\n",
       "    .dataframe tbody tr th:only-of-type {\n",
       "        vertical-align: middle;\n",
       "    }\n",
       "\n",
       "    .dataframe tbody tr th {\n",
       "        vertical-align: top;\n",
       "    }\n",
       "\n",
       "    .dataframe thead th {\n",
       "        text-align: right;\n",
       "    }\n",
       "</style>\n",
       "<table border=\"1\" class=\"dataframe\">\n",
       "  <thead>\n",
       "    <tr style=\"text-align: right;\">\n",
       "      <th></th>\n",
       "      <th>subject_id</th>\n",
       "      <th>label</th>\n",
       "      <th>value</th>\n",
       "      <th>frequency</th>\n",
       "    </tr>\n",
       "  </thead>\n",
       "  <tbody>\n",
       "    <tr>\n",
       "      <th>0</th>\n",
       "      <td>188</td>\n",
       "      <td>16 Gauge</td>\n",
       "      <td>1</td>\n",
       "      <td>1</td>\n",
       "    </tr>\n",
       "    <tr>\n",
       "      <th>1</th>\n",
       "      <td>188</td>\n",
       "      <td>18 Gauge</td>\n",
       "      <td>1</td>\n",
       "      <td>1</td>\n",
       "    </tr>\n",
       "    <tr>\n",
       "      <th>2</th>\n",
       "      <td>188</td>\n",
       "      <td>20 Gauge</td>\n",
       "      <td>1</td>\n",
       "      <td>1</td>\n",
       "    </tr>\n",
       "    <tr>\n",
       "      <th>3</th>\n",
       "      <td>188</td>\n",
       "      <td>22 Gauge</td>\n",
       "      <td>1</td>\n",
       "      <td>1</td>\n",
       "    </tr>\n",
       "    <tr>\n",
       "      <th>4</th>\n",
       "      <td>188</td>\n",
       "      <td>Abdominal X-Ray</td>\n",
       "      <td>1</td>\n",
       "      <td>1</td>\n",
       "    </tr>\n",
       "  </tbody>\n",
       "</table>\n",
       "</div>"
      ],
      "text/plain": [
       "   subject_id            label  value  frequency\n",
       "0         188         16 Gauge      1          1\n",
       "1         188         18 Gauge      1          1\n",
       "2         188         20 Gauge      1          1\n",
       "3         188         22 Gauge      1          1\n",
       "4         188  Abdominal X-Ray      1          1"
      ]
     },
     "execution_count": 8,
     "metadata": {},
     "output_type": "execute_result"
    }
   ],
   "source": [
    "q = \"\"\"SELECT distinct A.subject_id, B.label, 1 as value, 1 as frequency\n",
    "FROM `patient-similarity.mimic.procedureevents_mv`  as A\n",
    "left join  `patient-similarity.mimic.d_items` as B\n",
    "on a.itemid=b.itemid\n",
    "where subject_id in (select subject_id from `patient-similarity.mimic.liver_pts`)\n",
    "and A.HADM_ID is not null \n",
    "order by subject_id ,   B.LABEL \"\"\"\n",
    "procedures = pandas_gbq.read_gbq(q)\n",
    "procedures.head()"
   ]
  },
  {
   "cell_type": "code",
   "execution_count": 9,
   "metadata": {},
   "outputs": [],
   "source": [
    "procedures.to_csv(\"../data/patientData/med&procs_categorical_procedures.csv\", index = False)"
   ]
  },
  {
   "cell_type": "markdown",
   "metadata": {},
   "source": [
    "## Medications\n",
    "Leaving medications out for now. There are just way too many and it is way too messy"
   ]
  },
  {
   "cell_type": "code",
   "execution_count": null,
   "metadata": {},
   "outputs": [],
   "source": []
  }
 ],
 "metadata": {
  "kernelspec": {
   "display_name": "Python 3",
   "language": "python",
   "name": "python3"
  },
  "language_info": {
   "codemirror_mode": {
    "name": "ipython",
    "version": 3
   },
   "file_extension": ".py",
   "mimetype": "text/x-python",
   "name": "python",
   "nbconvert_exporter": "python",
   "pygments_lexer": "ipython3",
   "version": "3.7.0"
  }
 },
 "nbformat": 4,
 "nbformat_minor": 2
}
